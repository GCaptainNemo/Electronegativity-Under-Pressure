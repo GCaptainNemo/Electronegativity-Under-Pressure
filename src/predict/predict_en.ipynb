{
 "cells": [
  {
   "cell_type": "code",
   "execution_count": 1,
   "metadata": {},
   "outputs": [],
   "source": [
    "import os\n",
    "import sys\n",
    "sys.path.insert(0, os.path.abspath(\"../../\"))\n",
    "from src.predict.test_obj import TestObj"
   ]
  },
  {
   "cell_type": "code",
   "execution_count": 2,
   "metadata": {},
   "outputs": [
    {
     "name": "stdout",
     "output_type": "stream",
     "text": [
      "torch.Size([39, 1]) torch.Size([39, 1]) <class 'torch.Tensor'>\n",
      "RMSE =  0.42475470900535583\n",
      "MAE =  0.2826736271381378\n",
      "R2 =  0.9871821185289924\n"
     ]
    },
    {
     "data": {
      "image/png": "[encoded data removed]",
      "text/plain": [
       "<Figure size 432x288 with 1 Axes>"
      ]
     },
     "metadata": {
      "needs_background": "light"
     },
     "output_type": "display_data"
    }
   ],
   "source": [
    "test_obj = TestObj()\n",
    "pred_y_array, gt_y = test_obj.debug_get_loss()"
   ]
  },
  {
   "cell_type": "code",
   "execution_count": 3,
   "metadata": {},
   "outputs": [
    {
     "name": "stdout",
     "output_type": "stream",
     "text": [
      "H at 0Gpa pred_en: 3.8928411588035603\n"
     ]
    },
    {
     "data": {
      "text/plain": [
       "3.8928411588035603"
      ]
     },
     "execution_count": 3,
     "metadata": {},
     "output_type": "execute_result"
    }
   ],
   "source": [
    "# API predict_element_pressure：Calculate the electronegativity of an element under a specific pressure\n",
    "test_obj.predict_element_pressure(\"H\", 0)"
   ]
  },
  {
   "cell_type": "code",
   "execution_count": 4,
   "metadata": {},
   "outputs": [
    {
     "name": "stdout",
     "output_type": "stream",
     "text": [
      "H at 0Gpa pred_en: 3.8928411588035567\n",
      "H at 10Gpa pred_en: 1.6032931859707613\n",
      "H at 20Gpa pred_en: 1.3474914912605405\n",
      "H at 30Gpa pred_en: 1.210510415946354\n",
      "H at 40Gpa pred_en: 1.1141269468655768\n",
      "H at [0, 50) Gpa (step = 10): \n",
      "\n",
      "[3.8928411588035567, 1.6032931859707613, 1.3474914912605405, 1.210510415946354, 1.1141269468655768]\n"
     ]
    },
    {
     "data": {
      "text/plain": [
       "[3.8928411588035567,\n",
       " 1.6032931859707613,\n",
       " 1.3474914912605405,\n",
       " 1.210510415946354,\n",
       " 1.1141269468655768]"
      ]
     },
     "execution_count": 4,
     "metadata": {},
     "output_type": "execute_result"
    }
   ],
   "source": [
    "# API predict_element_pressures：Calculate the electronegativity of an element under different pressures\n",
    "test_obj.predict_element_pressures(\"H\", start_pressure=0, end_pressure=50, step=10)"
   ]
  },
  {
   "cell_type": "code",
   "execution_count": 5,
   "metadata": {},
   "outputs": [
    {
     "name": "stdout",
     "output_type": "stream",
     "text": [
      "H at 0Gpa pred_en: 3.8928411588035567\n",
      "O at 0Gpa pred_en: 5.12795876483189\n",
      "H2O at 0Gpa pred_en: 4.304547027479668\n"
     ]
    },
    {
     "data": {
      "text/plain": [
       "4.304547027479668"
      ]
     },
     "execution_count": 5,
     "metadata": {},
     "output_type": "execute_result"
    }
   ],
   "source": [
    "# API predict_formula_pressure：Calculate the electronegativity of the chemical formula under a single pressure, \n",
    "# that is, the arithmetic mean of the electronegativity of each element\n",
    "test_obj.predict_formula_pressure(\"H2O\", 0)"
   ]
  },
  {
   "cell_type": "code",
   "execution_count": 6,
   "metadata": {},
   "outputs": [
    {
     "name": "stdout",
     "output_type": "stream",
     "text": [
      "H at 0Gpa pred_en: 3.8928411588035567\n",
      "O at 0Gpa pred_en: 5.12795876483189\n",
      "H2O at 0Gpa pred_en: 4.304547027479668\n",
      "H at 10Gpa pred_en: 1.6032931859707613\n",
      "O at 10Gpa pred_en: 3.502376894311725\n",
      "H2O at 10Gpa pred_en: 2.2363210887510827\n",
      "H at 20Gpa pred_en: 1.3474914912605405\n",
      "O at 20Gpa pred_en: 3.259048684989472\n",
      "H2O at 20Gpa pred_en: 1.9846772225035176\n",
      "H at 30Gpa pred_en: 1.210510415946354\n",
      "O at 30Gpa pred_en: 3.119544153377399\n",
      "H2O at 30Gpa pred_en: 1.8468549950900357\n",
      "H at 40Gpa pred_en: 1.1141269468655768\n",
      "O at 40Gpa pred_en: 3.0189600200221296\n",
      "H2O at 40Gpa pred_en: 1.7490713045844277\n",
      "H2O at [0, 50) Gpa (step = 10): \n",
      "\n",
      "[4.304547027479668, 2.2363210887510827, 1.9846772225035176, 1.8468549950900357, 1.7490713045844277]\n"
     ]
    },
    {
     "data": {
      "text/plain": [
       "[4.304547027479668,\n",
       " 2.2363210887510827,\n",
       " 1.9846772225035176,\n",
       " 1.8468549950900357,\n",
       " 1.7490713045844277]"
      ]
     },
     "execution_count": 6,
     "metadata": {},
     "output_type": "execute_result"
    }
   ],
   "source": [
    "# API predict_formula_pressures：Calculate the electronegativity of the chemical formula under different pressure\n",
    "test_obj.predict_formula_pressures(\"H2O\", 0, 50, 10)"
   ]
  }
 ],
 "metadata": {
  "kernelspec": {
   "display_name": "Python 3",
   "language": "python",
   "name": "python3"
  },
  "language_info": {
   "codemirror_mode": {
    "name": "ipython",
    "version": 3
   },
   "file_extension": ".py",
   "mimetype": "text/x-python",
   "name": "python",
   "nbconvert_exporter": "python",
   "pygments_lexer": "ipython3",
   "version": "3.8.3"
  }
 },
 "nbformat": 4,
 "nbformat_minor": 5
}
